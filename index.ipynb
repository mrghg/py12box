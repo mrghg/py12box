{
 "cells": [
  {
   "cell_type": "markdown",
   "metadata": {},
   "source": [
    "# Run py12box model\n",
    "Run the AGAGE 12-box model"
   ]
  },
  {
   "cell_type": "code",
   "execution_count": null,
   "metadata": {},
   "outputs": [],
   "source": [
    "import os\n",
    "import matplotlib.pyplot as plt\n",
    "import setup\n",
    "import core"
   ]
  },
  {
   "cell_type": "code",
   "execution_count": null,
   "metadata": {},
   "outputs": [],
   "source": [
    "dir_path = os.path.realpath(\".\")\n",
    "input_dir = os.path.join(dir_path, \"inputs\")\n",
    "case_dir = os.path.join(dir_path, \"example\")"
   ]
  },
  {
   "cell_type": "code",
   "execution_count": null,
   "metadata": {},
   "outputs": [],
   "source": [
    "species = \"CFC-11\"\n",
    "mol_mass = 137.3688\n",
    "time, emissions, ic, lifetime = setup.get_species_parameters(case_dir, species)"
   ]
  },
  {
   "cell_type": "code",
   "execution_count": null,
   "metadata": {},
   "outputs": [],
   "source": [
    "i_t, i_v1, t, v1, OH, Cl, temperature = setup.get_model_parameters(input_dir,\n",
    "                                                                   int(len(time) / 12))\n",
    "F = setup.transport_matrix(i_t, i_v1, t, v1)\n",
    "c_month, burden, emissions_out, losses, lifetimes = \\\n",
    "    core.model(ic=ic, q=emissions,\n",
    "               mol_mass=mol_mass,\n",
    "               lifetime=lifetime,\n",
    "               F=F,\n",
    "               temp=temperature,\n",
    "               Cl=Cl, OH=OH)"
   ]
  },
  {
   "cell_type": "code",
   "execution_count": null,
   "metadata": {},
   "outputs": [],
   "source": [
    "plt.plot(time, c_month[:, 0])\n",
    "plt.plot(time, c_month[:, 3])\n",
    "plt.ylabel(\"%s (pmol mol$^{-1}$)\" % species)\n",
    "plt.show()"
   ]
  }
 ],
 "metadata": {
  "kernelspec": {
   "display_name": "Python 3",
   "language": "python",
   "name": "python3"
  },
  "language_info": {
   "codemirror_mode": {
    "name": "ipython",
    "version": 3
   },
   "file_extension": ".py",
   "mimetype": "text/x-python",
   "name": "python",
   "nbconvert_exporter": "python",
   "pygments_lexer": "ipython3",
   "version": "3.6.8"
  }
 },
 "nbformat": 4,
 "nbformat_minor": 2
}
