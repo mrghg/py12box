{
 "cells": [
  {
   "cell_type": "markdown",
   "metadata": {},
   "source": [
    "# Run py12box model\n",
    "Run the AGAGE 12-box model"
   ]
  },
  {
   "cell_type": "code",
   "execution_count": 1,
   "metadata": {},
   "outputs": [],
   "source": [
    "import os\n",
    "import matplotlib.pyplot as plt\n",
    "import setup\n",
    "import core\n",
    "from ipywidgets import widgets\n",
    "from IPython.display import display\n",
    "from pandas import read_csv\n",
    "from pathlib import Path"
   ]
  },
  {
   "cell_type": "code",
   "execution_count": 4,
   "metadata": {},
   "outputs": [],
   "source": [
    "input_dir = Path(\".\") / \"inputs\"\n",
    "\n",
    "species_info = read_csv(input_dir / \"species_info.csv\",\n",
    "                        index_col = \"Species\")\n",
    "#species_list = species_info.index.values\n",
    "project_paths = [Path('../py12box_projects'), Path(\"./example\")]"
   ]
  },
  {
   "cell_type": "code",
   "execution_count": 5,
   "metadata": {},
   "outputs": [
    {
     "data": {
      "application/vnd.jupyter.widget-view+json": {
       "model_id": "eb7c19b1b8724fbb85c6677dd3fb5c41",
       "version_major": 2,
       "version_minor": 0
      },
      "text/plain": [
       "Textarea(value='/Users/chxmr/Work/Projects/py12box_projects\\n/Users/chxmr/Work/Projects/py12box/example', desc…"
      ]
     },
     "metadata": {},
     "output_type": "display_data"
    }
   ],
   "source": [
    "project_directories_str = \"\\n\".join([str(pth.resolve()) for pth in project_paths])\n",
    "proj_textarea = widgets.Textarea(value = project_directories_str,\n",
    "                                description = \"Project_directories\")\n",
    "display(proj_textarea)"
   ]
  },
  {
   "cell_type": "code",
   "execution_count": 22,
   "metadata": {},
   "outputs": [
    {
     "data": {
      "application/vnd.jupyter.widget-view+json": {
       "model_id": "060d95c90faa4ff5acb037f9aae1f201",
       "version_major": 2,
       "version_minor": 0
      },
      "text/plain": [
       "Dropdown(description='Select project', options=(PosixPath('../py12box_projects/AGAGE'), PosixPath('../py12box_…"
      ]
     },
     "metadata": {},
     "output_type": "display_data"
    },
    {
     "data": {
      "application/vnd.jupyter.widget-view+json": {
       "model_id": "46a8712ea97c487485ddf0846f28ec78",
       "version_major": 2,
       "version_minor": 0
      },
      "text/plain": [
       "Dropdown(description='Select case', options=('CFC-11',), value='CFC-11')"
      ]
     },
     "metadata": {},
     "output_type": "display_data"
    },
    {
     "data": {
      "application/vnd.jupyter.widget-view+json": {
       "model_id": "2138a781289f46b5b6147c2166687bb6",
       "version_major": 2,
       "version_minor": 0
      },
      "text/plain": [
       "Dropdown(description='Select species', options=('CFC-11',), value='CFC-11')"
      ]
     },
     "metadata": {},
     "output_type": "display_data"
    }
   ],
   "source": [
    "project_directories = []\n",
    "for proj in project_paths:\n",
    "    for f in proj.glob(\"*\"):\n",
    "        if (f.is_dir()) and (str(f.name)[0] != \".\"):\n",
    "            project_directories.append(f)\n",
    "\n",
    "project_dropdown = widgets.Dropdown(options = sorted(project_directories),\n",
    "                                description = \"Select project\")\n",
    "\n",
    "case_dropdown = widgets.Dropdown(options = [None],\n",
    "                                 description = \"Select case\")\n",
    "\n",
    "species_dropdown = widgets.Dropdown(options = [None],\n",
    "                                    description = \"Select species\")\n",
    "\n",
    "def update_case_dropdown(*args):\n",
    "    project_directory = project_dropdown.value\n",
    "    cases = sorted([p.name for p in project_directory.glob(\"*/\")])\n",
    "    case_dropdown.options = cases\n",
    "\n",
    "project_dropdown.observe(update_case_dropdown)\n",
    "update_case_dropdown()\n",
    "\n",
    "def update_species_dropdown(*args):\n",
    "    case = case_dropdown.value\n",
    "    fnames = [f.name for f in (project_dropdown.value / case).rglob(\"*.csv\")]\n",
    "    if fnames:\n",
    "        species_set = set([f.split(\"_\")[0] for f in fnames])\n",
    "        species_dropdown.options = species_set\n",
    "    else:\n",
    "        species_dropdown.options = [\"ERROR: no files found\"]\n",
    "\n",
    "case_dropdown.observe(update_species_dropdown)\n",
    "update_species_dropdown()\n",
    "\n",
    "display(project_dropdown)\n",
    "display(case_dropdown)\n",
    "display(species_dropdown)\n"
   ]
  },
  {
   "cell_type": "code",
   "execution_count": 27,
   "metadata": {},
   "outputs": [],
   "source": [
    "project_directory = project_dropdown.value\n",
    "case = case_dropdown.value\n",
    "species = species_dropdown.value\n",
    "mol_mass = species_info[\"Molecular mass (g/mol)\"][species]\n",
    "\n",
    "time, emissions, ic, lifetime = setup.get_species_parameters(project_directory,\n",
    "                                                             case,\n",
    "                                                             species)\n",
    "\n",
    "i_t, i_v1, t, v1, OH, Cl, temperature = setup.get_model_parameters(input_dir,\n",
    "                                                                   int(len(time) / 12))\n",
    "F = setup.transport_matrix(i_t, i_v1, t, v1)\n",
    "c_month, burden, emissions_out, losses, lifetimes = \\\n",
    "    core.model(ic=ic, q=emissions,\n",
    "               mol_mass=mol_mass,\n",
    "               lifetime=lifetime,\n",
    "               F=F,\n",
    "               temp=temperature,\n",
    "               Cl=Cl, OH=OH)"
   ]
  },
  {
   "cell_type": "code",
   "execution_count": 28,
   "metadata": {},
   "outputs": [
    {
     "data": {
      "image/png": "[encoded data removed]",
      "text/plain": [
       "<Figure size 432x288 with 1 Axes>"
      ]
     },
     "metadata": {
      "needs_background": "light"
     },
     "output_type": "display_data"
    }
   ],
   "source": [
    "plt.plot(time, c_month[:, 0])\n",
    "plt.plot(time, c_month[:, 3])\n",
    "plt.ylabel(\"%s (pmol mol$^{-1}$)\" % species)\n",
    "plt.show()"
   ]
  },
  {
   "cell_type": "code",
   "execution_count": null,
   "metadata": {},
   "outputs": [],
   "source": []
  }
 ],
 "metadata": {
  "kernelspec": {
   "display_name": "Python 3",
   "language": "python",
   "name": "python3"
  },
  "language_info": {
   "codemirror_mode": {
    "name": "ipython",
    "version": 3
   },
   "file_extension": ".py",
   "mimetype": "text/x-python",
   "name": "python",
   "nbconvert_exporter": "python",
   "pygments_lexer": "ipython3",
   "version": "3.7.2"
  }
 },
 "nbformat": 4,
 "nbformat_minor": 2
}
