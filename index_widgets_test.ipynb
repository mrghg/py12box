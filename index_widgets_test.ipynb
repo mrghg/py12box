{
 "cells": [
  {
   "cell_type": "markdown",
   "metadata": {},
   "source": [
    "# Run py12box model\n",
    "Run the AGAGE 12-box model"
   ]
  },
  {
   "cell_type": "code",
   "execution_count": 33,
   "metadata": {},
   "outputs": [],
   "source": [
    "import os\n",
    "import matplotlib.pyplot as plt\n",
    "import setup\n",
    "import core\n",
    "from ipywidgets import widgets\n",
    "from pandas import read_csv\n",
    "from pathlib import Path"
   ]
  },
  {
   "cell_type": "code",
   "execution_count": 37,
   "metadata": {},
   "outputs": [],
   "source": [
    "dir_path = Path('.').parent"
   ]
  },
  {
   "cell_type": "code",
   "execution_count": 38,
   "metadata": {},
   "outputs": [],
   "source": [
    "#os.path.realpath(\".\")\n",
    "input_dir = os.path.join(dir_path, \"inputs\")\n",
    "case_dir = os.path.join(dir_path, \"example\")\n",
    "species_info = read_csv(os.path.join(input_dir, \"species_info.csv\"),\n",
    "                       index_col = \"Species\")\n",
    "species_list = species_info.index.values"
   ]
  },
  {
   "cell_type": "code",
   "execution_count": 31,
   "metadata": {},
   "outputs": [
    {
     "data": {
      "application/vnd.jupyter.widget-view+json": {
       "model_id": "0d59340bbc5d431bbc31c4c27faf5380",
       "version_major": 2,
       "version_minor": 0
      },
      "text/plain": [
       "interactive(children=(Dropdown(description='species', options=('CFC-11', 'CFC-12', 'CFC-13', 'CFC-113', 'CFC-1…"
      ]
     },
     "metadata": {},
     "output_type": "display_data"
    },
    {
     "data": {
      "text/plain": [
       "<function __main__.set_species(species)>"
      ]
     },
     "execution_count": 31,
     "metadata": {},
     "output_type": "execute_result"
    }
   ],
   "source": [
    "model_inputs = {\"species\": None,\n",
    "                \"mol_mass\": None}\n",
    "\n",
    "def set_species(species):\n",
    "    mol_mass = species_info[\"Molecular mass (g/mol)\"][species]\n",
    "    model_inputs[\"mol_mass\"] = mol_mass\n",
    "    model_inputs[\"species\"] = species\n",
    "    print(model_inputs)\n",
    "\n",
    "widgets.interact(set_species, species = species_list)"
   ]
  },
  {
   "cell_type": "code",
   "execution_count": null,
   "metadata": {},
   "outputs": [],
   "source": []
  },
  {
   "cell_type": "code",
   "execution_count": 32,
   "metadata": {},
   "outputs": [
    {
     "ename": "TypeError",
     "evalue": "get_species_parameters() missing 1 required positional argument: 'species'",
     "output_type": "error",
     "traceback": [
      "\u001b[0;31m---------------------------------------------------------------------------\u001b[0m",
      "\u001b[0;31mTypeError\u001b[0m                                 Traceback (most recent call last)",
      "\u001b[0;32m<ipython-input-32-8b3c0271755b>\u001b[0m in \u001b[0;36m<module>\u001b[0;34m\u001b[0m\n\u001b[1;32m      1\u001b[0m \u001b[0mspecies\u001b[0m \u001b[0;34m=\u001b[0m \u001b[0;34m\"CFC-11\"\u001b[0m\u001b[0;34m\u001b[0m\u001b[0;34m\u001b[0m\u001b[0m\n\u001b[1;32m      2\u001b[0m \u001b[0mmol_mass\u001b[0m \u001b[0;34m=\u001b[0m \u001b[0;36m137.3688\u001b[0m\u001b[0;34m\u001b[0m\u001b[0;34m\u001b[0m\u001b[0m\n\u001b[0;32m----> 3\u001b[0;31m \u001b[0mtime\u001b[0m\u001b[0;34m,\u001b[0m \u001b[0memissions\u001b[0m\u001b[0;34m,\u001b[0m \u001b[0mic\u001b[0m\u001b[0;34m,\u001b[0m \u001b[0mlifetime\u001b[0m \u001b[0;34m=\u001b[0m \u001b[0msetup\u001b[0m\u001b[0;34m.\u001b[0m\u001b[0mget_species_parameters\u001b[0m\u001b[0;34m(\u001b[0m\u001b[0mcase_dir\u001b[0m\u001b[0;34m,\u001b[0m \u001b[0mspecies\u001b[0m\u001b[0;34m)\u001b[0m\u001b[0;34m\u001b[0m\u001b[0;34m\u001b[0m\u001b[0m\n\u001b[0m",
      "\u001b[0;31mTypeError\u001b[0m: get_species_parameters() missing 1 required positional argument: 'species'"
     ]
    }
   ],
   "source": [
    "species = \"CFC-11\"\n",
    "mol_mass = 137.3688\n",
    "time, emissions, ic, lifetime = setup.get_species_parameters(project_dir,\n",
    "                                                             case_dir,\n",
    "                                                             species)"
   ]
  },
  {
   "cell_type": "code",
   "execution_count": null,
   "metadata": {},
   "outputs": [],
   "source": [
    "i_t, i_v1, t, v1, OH, Cl, temperature = setup.get_model_parameters(input_dir,\n",
    "                                                                   int(len(time) / 12))\n",
    "F = setup.transport_matrix(i_t, i_v1, t, v1)\n",
    "c_month, burden, emissions_out, losses, lifetimes = \\\n",
    "    core.model(ic=ic, q=emissions,\n",
    "               mol_mass=mol_mass,\n",
    "               lifetime=lifetime,\n",
    "               F=F,\n",
    "               temp=temperature,\n",
    "               Cl=Cl, OH=OH)"
   ]
  },
  {
   "cell_type": "code",
   "execution_count": null,
   "metadata": {},
   "outputs": [],
   "source": [
    "plt.plot(time, c_month[:, 0])\n",
    "plt.plot(time, c_month[:, 3])\n",
    "plt.ylabel(\"%s (pmol mol$^{-1}$)\" % species)\n",
    "plt.show()"
   ]
  }
 ],
 "metadata": {
  "kernelspec": {
   "display_name": "Python 3",
   "language": "python",
   "name": "python3"
  },
  "language_info": {
   "codemirror_mode": {
    "name": "ipython",
    "version": 3
   },
   "file_extension": ".py",
   "mimetype": "text/x-python",
   "name": "python",
   "nbconvert_exporter": "python",
   "pygments_lexer": "ipython3",
   "version": "3.7.2"
  }
 },
 "nbformat": 4,
 "nbformat_minor": 2
}
